{
 "cells": [
  {
   "cell_type": "markdown",
   "metadata": {},
   "source": [
    "# <center>NLP</center>"
   ]
  },
  {
   "cell_type": "markdown",
   "metadata": {},
   "source": [
    "## What is NLP?"
   ]
  },
  {
   "cell_type": "markdown",
   "metadata": {},
   "source": [
    "Natural Language Processing is a subfield of linguistics, computer science, and artificial intelligence concerned with the interactions between computers and human language, in particular how to program computers to process and analyze large amounts of natural language data.\n",
    "\n",
    "The ultimate goal of NLP is to enable computers to understand, interpret, and generate human language in a way that is both meaningful and useful."
   ]
  },
  {
   "attachments": {
    "image.png": {
     "image/png": "[encoded data removed]"
    }
   },
   "cell_type": "markdown",
   "metadata": {},
   "source": [
    "<center>\n",
    "\n",
    "![image.png](attachment:image.png) \n",
    " \n",
    " </center>"
   ]
  },
  {
   "cell_type": "markdown",
   "metadata": {},
   "source": [
    "## Need For NLP"
   ]
  },
  {
   "cell_type": "markdown",
   "metadata": {},
   "source": [
    "In neuro-psychology, linguistics, and the philosophy of language, a **natural language** or **ordinary language** is any language that has evolved naturally in humans through use and repetition without conscious planning or premeditation.\n",
    "\n",
    "Natural languages can take different forms, such as speech or signing. They are distinguished from constructed and formal languages such as those used to program computers or to study logic.\n",
    "\n",
    "NLP is needed to bridge the gap between human communication and computer understanding, making interactions more intuitive and efficient."
   ]
  },
  {
   "cell_type": "markdown",
   "metadata": {},
   "source": [
    "## Real World Applications"
   ]
  },
  {
   "cell_type": "markdown",
   "metadata": {},
   "source": [
    "1. Contextual Advertisements: Delivering ads based on the context of the content a user is viewing.\n",
    "2. Email Clients: Features like spam filtering, auto-categorization, and smart reply suggestions.\n",
    "3. Social Media: Removing inappropriate content, sentiment analysis, and opinion mining.\n",
    "4. Search Engines: Improving search results by understanding user queries better.\n",
    "5. Chatbots: Providing automated customer support and personal assistants."
   ]
  },
  {
   "cell_type": "markdown",
   "metadata": {},
   "source": [
    "## Common NLP Tasks"
   ]
  },
  {
   "cell_type": "markdown",
   "metadata": {},
   "source": [
    "1. Text/Document Classification: Categorizing text into predefined groups.\n",
    "2. Sentiment Analysis: Determining the sentiment or emotion expressed in a piece of text.\n",
    "3. Information Retrieval / Named Entity Recognition (NER): Extracting relevant information and identifying entities like names, dates, and places.\n",
    "4. Parts of Speech Tagging: Identifying the grammatical parts of words in a sentence.\n",
    "5. Language Detection and Machine Translation: Identifying languages and translating text between languages.\n",
    "6. Conversational Agents: Developing text-based or speech-based dialogue systems.\n",
    "7. Knowledge Graph and QA Systems: Creating structured knowledge from text and building question-answering systems.\n",
    "8. Text Summarization: Creating concise summaries of longer texts.\n",
    "9. Topic Modelling: Identifying topics within a collection of documents.\n",
    "10. Text Generation: Automatically generating human-like text.\n",
    "11. Spell Checking and Grammar Corrections: Identifying and correcting spelling and grammatical errors.\n",
    "12. Text Parsing: Analyzing the structure of sentences.\n",
    "13. Speech to Text: Converting spoken language into written text."
   ]
  },
  {
   "cell_type": "markdown",
   "metadata": {},
   "source": [
    "## Approaches To NLP"
   ]
  },
  {
   "cell_type": "markdown",
   "metadata": {},
   "source": [
    "1. Heuristic Methods\n",
    "2. Machine Learning Based Methods\n",
    "3. Deep Learning Based Methods"
   ]
  },
  {
   "cell_type": "markdown",
   "metadata": {},
   "source": [
    "#### **1. Heuristic Methods**\n",
    "A heuristic is a **mental shortcut that allows people to solve problems and make judgements quickly and efficiently.**\n",
    "\n",
    "A heuristic, or heuristic technique, is any approach to problem solving or self-discovery that employs a practical method that is not guaranteed to be optimal, perfect, or rational, but is nevertheless sufficient for reaching an immediate, short-term goal or approximation.\n",
    "\n",
    "\n",
    "**What are heuristic approaches? Examples:**\n",
    "- Regular Expressions: Used for pattern matching in text, such as finding HTML tags or salutations.\n",
    "- WordNet: A lexical dictionary for the English language.\n",
    "- Open Mind Common Sense: A knowledge base of common-sense facts.\n",
    "\n",
    "\n",
    "**Advantages:**\n",
    "- Quick Approach\n",
    "- Often more accurate for simple tasks\n",
    "\n",
    "**Disadvantages:**\n",
    "\n",
    "- Not scalable for large, complex tasks.\n",
    "- Can be brittle and fail when faced with unexpected input."
   ]
  },
  {
   "cell_type": "markdown",
   "metadata": {},
   "source": [
    "##### **2. Machine Learning Based Approach:**\n",
    "\n",
    "The Big Advantage:\n",
    "    \n",
    "- Helpful in solving open ended problems\n",
    "- Converts textual data into numerical form, allowing for rule-based decision making.\n",
    "\n",
    "\n",
    "**Algorithms Used:**\n",
    "\n",
    "- Naive Bayes: Simple probabilistic classifier based on Bayes' theorem.\n",
    "- Logistic Regression: Statistical model for binary classification.\n",
    "- Support Vector Machines (SVM): Supervised learning models for classification and regression.\n",
    "- Latent Dirichlet Allocation (LDA): A generative probabilistic model for topic modeling.\n",
    "- Hidden Markov Models (HMM): Statistical models used for sequence data, like part-of-speech tagging.\n",
    "\n",
    "\n",
    "**Advantages:**\n",
    "- More flexible than heuristic methods.\n",
    "- Can learn from data and improve over time.\n",
    "\n",
    "**Disadvantages:**\n",
    "- Requires labeled data for training.\n",
    "- May not capture complex language patterns."
   ]
  },
  {
   "cell_type": "markdown",
   "metadata": {},
   "source": [
    "##### **3. Deep Learning Approaches:**\n",
    "\n",
    "The Big Advantage:\n",
    "\n",
    "- In ML approach we used to convert the textual data into numbers, and due to it, most of the time the sequential information of the text is lost. So unlike traditional ML approaches, deep learning models automatically generate features from raw data, preserving the sequential information in text.\n",
    "- The feature generation is automatically done by the deep learning models.\n",
    "\n",
    "\n",
    "**Architectures Used:**\n",
    "\n",
    "- Recurrent Neural Networks (RNN): Suitable for sequence data but can suffer from vanishing gradient problems.\n",
    "- Long Short-Term Memory (LSTM): A type of RNN that can capture long-term dependencies.\n",
    "- Gated Recurrent Unit (GRU): Similar to LSTM but with a simplified architecture.\n",
    "- Convolutional Neural Networks (CNN): Effective for text classification and feature extraction.\n",
    "- Transformers: State-of-the-art models for NLP tasks, known for their attention mechanisms (e.g., BERT, GPT).\n",
    "\n",
    "**Advantages:**\n",
    "- Can handle large amounts of data.\n",
    "- Automatically generate features, preserving the sequential information in text.\n",
    "\n",
    "**Disadvantages:**\n",
    "- Computationally intensive.\n",
    "- Requires large datasets for training."
   ]
  },
  {
   "cell_type": "markdown",
   "metadata": {},
   "source": [
    "## Challenges In NLP\n",
    "\n",
    "- Ambiguity: Words or sentences with multiple interpretations.\n",
    "    - *I saw the boy on the beach with my binoculars.*\n",
    "    - *I have never tested a cake quite like that one before.*\n",
    "- Contextual Words: Words that change meaning based on context.\n",
    "    - *I **ran** to the store because we **ran** out of the milk.*\n",
    "- Colloquialisms and Slang: Informal expressions\n",
    "    - *piece of cake, pulling your leg*\n",
    "- Synonyms: Different words with the same or similar meanings.\n",
    "- Irony, Sarcasm And Tonal Difference: Sentences that mean the opposite of their literal meaning.\n",
    "    - *That's just what I needed today!*\n",
    "- Spelling Errors: Mistakes in writing.\n",
    "- Creativity: Artistic use of language, like in poetry or dialogue.\n",
    "    - *Poems, dialogues, scripts*\n",
    "- Diversity: Variability in how people express the same idea."
   ]
  },
  {
   "cell_type": "markdown",
   "metadata": {},
   "source": [
    "# The NLP Landscape: From 1960's to 2020's"
   ]
  }
 ],
 "metadata": {
  "kernelspec": {
   "display_name": "Python 3 (ipykernel)",
   "language": "python",
   "name": "python3"
  },
  "language_info": {
   "codemirror_mode": {
    "name": "ipython",
    "version": 3
   },
   "file_extension": ".py",
   "mimetype": "text/x-python",
   "name": "python",
   "nbconvert_exporter": "python",
   "pygments_lexer": "ipython3",
   "version": "3.12.2"
  }
 },
 "nbformat": 4,
 "nbformat_minor": 4
}
